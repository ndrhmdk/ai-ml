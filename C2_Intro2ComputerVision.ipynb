{
 "cells": [
  {
   "cell_type": "markdown",
   "metadata": {},
   "source": [
    "# **Designing the Neural Network**\n"
   ]
  },
  {
   "cell_type": "markdown",
   "metadata": {},
   "source": []
  },
  {
   "metadata": {
    "ExecuteTime": {
     "end_time": "2024-11-18T10:50:16.660056Z",
     "start_time": "2024-11-18T10:50:16.654066Z"
    }
   },
   "cell_type": "code",
   "source": "print(\"computer vision\")",
   "outputs": [
    {
     "name": "stdout",
     "output_type": "stream",
     "text": [
      "computer vision\n"
     ]
    }
   ],
   "execution_count": 1
  },
  {
   "metadata": {},
   "cell_type": "code",
   "outputs": [],
   "execution_count": null,
   "source": ""
  }
 ],
 "metadata": {
  "language_info": {
   "name": "python"
  },
  "kernelspec": {
   "name": "python3",
   "language": "python",
   "display_name": "Python 3 (ipykernel)"
  }
 },
 "nbformat": 4,
 "nbformat_minor": 2
}
